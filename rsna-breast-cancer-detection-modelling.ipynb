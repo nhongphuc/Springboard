{
 "cells": [
  {
   "cell_type": "code",
   "execution_count": 1,
   "id": "fa1b5942",
   "metadata": {
    "_cell_guid": "b1076dfc-b9ad-4769-8c92-a6c4dae69d19",
    "_uuid": "8f2839f25d086af736a60e9eeb907d3b93b6e0e5",
    "execution": {
     "iopub.execute_input": "2023-03-24T03:38:34.198349Z",
     "iopub.status.busy": "2023-03-24T03:38:34.197899Z",
     "iopub.status.idle": "2023-03-24T03:38:37.287140Z",
     "shell.execute_reply": "2023-03-24T03:38:37.285781Z"
    },
    "papermill": {
     "duration": 3.101524,
     "end_time": "2023-03-24T03:38:37.290677",
     "exception": false,
     "start_time": "2023-03-24T03:38:34.189153",
     "status": "completed"
    },
    "tags": []
   },
   "outputs": [
    {
     "data": {
      "text/html": [
       "<style type='text/css'>\n",
       ".datatable table.frame { margin-bottom: 0; }\n",
       ".datatable table.frame thead { border-bottom: none; }\n",
       ".datatable table.frame tr.coltypes td {  color: #FFFFFF;  line-height: 6px;  padding: 0 0.5em;}\n",
       ".datatable .bool    { background: #DDDD99; }\n",
       ".datatable .object  { background: #565656; }\n",
       ".datatable .int     { background: #5D9E5D; }\n",
       ".datatable .float   { background: #4040CC; }\n",
       ".datatable .str     { background: #CC4040; }\n",
       ".datatable .time    { background: #40CC40; }\n",
       ".datatable .row_index {  background: var(--jp-border-color3);  border-right: 1px solid var(--jp-border-color0);  color: var(--jp-ui-font-color3);  font-size: 9px;}\n",
       ".datatable .frame tbody td { text-align: left; }\n",
       ".datatable .frame tr.coltypes .row_index {  background: var(--jp-border-color0);}\n",
       ".datatable th:nth-child(2) { padding-left: 12px; }\n",
       ".datatable .hellipsis {  color: var(--jp-cell-editor-border-color);}\n",
       ".datatable .vellipsis {  background: var(--jp-layout-color0);  color: var(--jp-cell-editor-border-color);}\n",
       ".datatable .na {  color: var(--jp-cell-editor-border-color);  font-size: 80%;}\n",
       ".datatable .sp {  opacity: 0.25;}\n",
       ".datatable .footer { font-size: 9px; }\n",
       ".datatable .frame_dimensions {  background: var(--jp-border-color3);  border-top: 1px solid var(--jp-border-color0);  color: var(--jp-ui-font-color3);  display: inline-block;  opacity: 0.6;  padding: 1px 10px 1px 5px;}\n",
       "</style>\n"
      ],
      "text/plain": [
       "<IPython.core.display.HTML object>"
      ]
     },
     "metadata": {},
     "output_type": "display_data"
    }
   ],
   "source": [
    "#Importing packages\n",
    "\n",
    "import numpy as np # linear algebra\n",
    "import pandas as pd # data processing, CSV file I/O (e.g. pd.read_csv)\n",
    "import pickle\n",
    "import matplotlib.pyplot as plt\n",
    "from sklearn.model_selection import cross_validate, cross_val_score, GridSearchCV\n",
    "from sklearn.linear_model import LogisticRegression\n",
    "from sklearn.metrics import accuracy_score, f1_score, roc_curve, auc\n",
    "from sklearn.pipeline import make_pipeline\n",
    "from sklearn.ensemble import RandomForestClassifier, GradientBoostingClassifier\n",
    "from bayes_opt import BayesianOptimization\n",
    "from sklearn.impute import SimpleImputer\n",
    "import lightgbm"
   ]
  },
  {
   "cell_type": "code",
   "execution_count": 2,
   "id": "ef29ad33",
   "metadata": {
    "execution": {
     "iopub.execute_input": "2023-03-24T03:38:37.304920Z",
     "iopub.status.busy": "2023-03-24T03:38:37.304477Z",
     "iopub.status.idle": "2023-03-24T03:38:37.414607Z",
     "shell.execute_reply": "2023-03-24T03:38:37.413067Z"
    },
    "papermill": {
     "duration": 0.121072,
     "end_time": "2023-03-24T03:38:37.418049",
     "exception": false,
     "start_time": "2023-03-24T03:38:37.296977",
     "status": "completed"
    },
    "tags": []
   },
   "outputs": [],
   "source": [
    "#Loading the files Xtrain_scaled_pca, Xtest_scaled_pca, Ytrain, Ytest from the \n",
    "#preprocessing notebook.\n",
    "\n",
    "folder_path = '/kaggle/input/rsna-breast-cancer-detection-preprocessing-2/'\n",
    "\n",
    "with open(folder_path + 'Xtest_scaled_pca.pickle', 'rb') as file:\n",
    "    Xtest_scaled_pca = pickle.load(file)\n",
    "with open(folder_path + 'Xtrain_scaled_pca.pickle', 'rb') as file:\n",
    "    Xtrain_scaled_pca = pickle.load(file)\n",
    "with open(folder_path + 'Ytest.pickle', 'rb') as file:\n",
    "    Ytest = pickle.load(file)\n",
    "with open(folder_path + 'Ytrain.pickle', 'rb') as file:\n",
    "    Ytrain = pickle.load(file)"
   ]
  },
  {
   "cell_type": "markdown",
   "id": "eb0ff469",
   "metadata": {
    "papermill": {
     "duration": 0.005543,
     "end_time": "2023-03-24T03:38:37.431168",
     "exception": false,
     "start_time": "2023-03-24T03:38:37.425625",
     "status": "completed"
    },
    "tags": []
   },
   "source": [
    "# Logistic Regression"
   ]
  },
  {
   "cell_type": "markdown",
   "id": "98fa72c6",
   "metadata": {
    "papermill": {
     "duration": 0.00535,
     "end_time": "2023-03-24T03:38:37.442448",
     "exception": false,
     "start_time": "2023-03-24T03:38:37.437098",
     "status": "completed"
    },
    "tags": []
   },
   "source": [
    "Let's first use logistic regression. We will use Bayesian optimization to do the hyperparameter search. We will use the F1-score as the evaluation metric, because we want to minimize the number of false positives."
   ]
  },
  {
   "cell_type": "code",
   "execution_count": 3,
   "id": "2dd0735e",
   "metadata": {
    "execution": {
     "iopub.execute_input": "2023-03-24T03:38:37.456507Z",
     "iopub.status.busy": "2023-03-24T03:38:37.455510Z",
     "iopub.status.idle": "2023-03-24T03:38:37.463575Z",
     "shell.execute_reply": "2023-03-24T03:38:37.461969Z"
    },
    "papermill": {
     "duration": 0.017997,
     "end_time": "2023-03-24T03:38:37.466065",
     "exception": false,
     "start_time": "2023-03-24T03:38:37.448068",
     "status": "completed"
    },
    "tags": []
   },
   "outputs": [],
   "source": [
    "def logreg_eval(C):\n",
    "    logreg = LogisticRegression(solver = 'liblinear', max_iter = 500, C=C)\n",
    "    cv_results = cross_val_score(logreg, Xtrain_scaled_pca, Ytrain, scoring=\"f1\",cv=5)\n",
    "    return cv_results.mean()"
   ]
  },
  {
   "cell_type": "code",
   "execution_count": 4,
   "id": "04f72592",
   "metadata": {
    "execution": {
     "iopub.execute_input": "2023-03-24T03:38:37.480802Z",
     "iopub.status.busy": "2023-03-24T03:38:37.479759Z",
     "iopub.status.idle": "2023-03-24T03:39:08.865933Z",
     "shell.execute_reply": "2023-03-24T03:39:08.863937Z"
    },
    "papermill": {
     "duration": 31.407693,
     "end_time": "2023-03-24T03:39:08.879475",
     "exception": false,
     "start_time": "2023-03-24T03:38:37.471782",
     "status": "completed"
    },
    "tags": []
   },
   "outputs": [
    {
     "name": "stdout",
     "output_type": "stream",
     "text": [
      "|   iter    |  target   |     C     |\n",
      "-------------------------------------\n"
     ]
    },
    {
     "name": "stderr",
     "output_type": "stream",
     "text": [
      "/opt/conda/lib/python3.7/site-packages/ipykernel_launcher.py:2: DeprecationWarning: \n",
      "Passing acquisition function parameters or gaussian process parameters to maximize\n",
      "is no longer supported, and will cause an error in future releases. Instead,\n",
      "please use the \"set_gp_params\" method to set the gp params, and pass an instance\n",
      " of bayes_opt.util.UtilityFunction using the acquisition_function argument\n",
      "\n",
      "  \n"
     ]
    },
    {
     "name": "stdout",
     "output_type": "stream",
     "text": [
      "| \u001b[0m1        \u001b[0m | \u001b[0m0.9535   \u001b[0m | \u001b[0m132.9    \u001b[0m |\n",
      "| \u001b[95m2        \u001b[0m | \u001b[95m0.9538   \u001b[0m | \u001b[95m17.2     \u001b[0m |\n",
      "| \u001b[0m3        \u001b[0m | \u001b[0m0.9538   \u001b[0m | \u001b[0m44.97    \u001b[0m |\n",
      "| \u001b[0m4        \u001b[0m | \u001b[0m0.9538   \u001b[0m | \u001b[0m14.16    \u001b[0m |\n",
      "| \u001b[0m5        \u001b[0m | \u001b[0m0.9535   \u001b[0m | \u001b[0m157.9    \u001b[0m |\n",
      "| \u001b[0m6        \u001b[0m | \u001b[0m0.9462   \u001b[0m | \u001b[0m0.01516  \u001b[0m |\n",
      "| \u001b[0m7        \u001b[0m | \u001b[0m0.9538   \u001b[0m | \u001b[0m32.8     \u001b[0m |\n",
      "| \u001b[0m8        \u001b[0m | \u001b[0m0.9538   \u001b[0m | \u001b[0m59.68    \u001b[0m |\n",
      "| \u001b[0m9        \u001b[0m | \u001b[0m0.9538   \u001b[0m | \u001b[0m74.29    \u001b[0m |\n",
      "| \u001b[0m10       \u001b[0m | \u001b[0m0.9535   \u001b[0m | \u001b[0m89.13    \u001b[0m |\n",
      "| \u001b[0m11       \u001b[0m | \u001b[0m0.9535   \u001b[0m | \u001b[0m116.0    \u001b[0m |\n",
      "| \u001b[0m12       \u001b[0m | \u001b[0m0.9535   \u001b[0m | \u001b[0m174.3    \u001b[0m |\n",
      "| \u001b[0m13       \u001b[0m | \u001b[0m0.9535   \u001b[0m | \u001b[0m190.7    \u001b[0m |\n",
      "| \u001b[0m14       \u001b[0m | \u001b[0m0.9535   \u001b[0m | \u001b[0m102.6    \u001b[0m |\n",
      "| \u001b[0m15       \u001b[0m | \u001b[0m0.9535   \u001b[0m | \u001b[0m145.4    \u001b[0m |\n",
      "=====================================\n"
     ]
    }
   ],
   "source": [
    "logregBO = BayesianOptimization(logreg_eval, {'C': (0.01,200)})\n",
    "logregBO.maximize(init_points=5,n_iter=10,acq='ucb')"
   ]
  },
  {
   "cell_type": "markdown",
   "id": "cddbc29b",
   "metadata": {
    "papermill": {
     "duration": 0.016336,
     "end_time": "2023-03-24T03:39:08.912617",
     "exception": false,
     "start_time": "2023-03-24T03:39:08.896281",
     "status": "completed"
    },
    "tags": []
   },
   "source": [
    "We see that the F1-score doesn't vary much over the whole range of C, and stays at around 0.95. Let's now choose the value C=38.05 and make predictions on the test set."
   ]
  },
  {
   "cell_type": "code",
   "execution_count": 5,
   "id": "b98ba21f",
   "metadata": {
    "execution": {
     "iopub.execute_input": "2023-03-24T03:39:08.950039Z",
     "iopub.status.busy": "2023-03-24T03:39:08.949254Z",
     "iopub.status.idle": "2023-03-24T03:39:09.436297Z",
     "shell.execute_reply": "2023-03-24T03:39:09.434621Z"
    },
    "papermill": {
     "duration": 0.510682,
     "end_time": "2023-03-24T03:39:09.440957",
     "exception": false,
     "start_time": "2023-03-24T03:39:08.930275",
     "status": "completed"
    },
    "tags": []
   },
   "outputs": [
    {
     "name": "stdout",
     "output_type": "stream",
     "text": [
      "F1-score on training data: 0.96\n",
      "F1-score on test data: 0.64\n"
     ]
    }
   ],
   "source": [
    "logreg = LogisticRegression(solver = 'liblinear', max_iter = 500, C=38.05)\n",
    "logreg.fit(Xtrain_scaled_pca, Ytrain)\n",
    "print(f'F1-score on training data: {f1_score(logreg.predict(Xtrain_scaled_pca), Ytrain):.2f}')\n",
    "print(f'F1-score on test data: {f1_score(logreg.predict(Xtest_scaled_pca), Ytest):.2f}')"
   ]
  },
  {
   "cell_type": "markdown",
   "id": "d428eddf",
   "metadata": {
    "papermill": {
     "duration": 0.017151,
     "end_time": "2023-03-24T03:39:09.475461",
     "exception": false,
     "start_time": "2023-03-24T03:39:09.458310",
     "status": "completed"
    },
    "tags": []
   },
   "source": [
    "# Random Forest"
   ]
  },
  {
   "cell_type": "markdown",
   "id": "ec543e3f",
   "metadata": {
    "papermill": {
     "duration": 0.016674,
     "end_time": "2023-03-24T03:39:09.509710",
     "exception": false,
     "start_time": "2023-03-24T03:39:09.493036",
     "status": "completed"
    },
    "tags": []
   },
   "source": [
    "Next, we try random forest. We go back to using GridSearchCV because we want to optimize over discrete (integer) values of the parameter min_samples_split, and it's hard to deal with discrete hyperparameter values with BayesianOptimization."
   ]
  },
  {
   "cell_type": "code",
   "execution_count": 6,
   "id": "a15e931c",
   "metadata": {
    "execution": {
     "iopub.execute_input": "2023-03-24T03:39:09.548260Z",
     "iopub.status.busy": "2023-03-24T03:39:09.547845Z",
     "iopub.status.idle": "2023-03-24T03:39:09.554535Z",
     "shell.execute_reply": "2023-03-24T03:39:09.553155Z"
    },
    "papermill": {
     "duration": 0.02866,
     "end_time": "2023-03-24T03:39:09.557738",
     "exception": false,
     "start_time": "2023-03-24T03:39:09.529078",
     "status": "completed"
    },
    "tags": []
   },
   "outputs": [],
   "source": [
    "rf = RandomForestClassifier(random_state=47, n_estimators=100, n_jobs=-1)\n",
    "parameters = {\"min_samples_split\": [3,4,6],\n",
    "             \"max_depth\": [3,5,7],\n",
    "             \"criterion\": [\"gini\",\"entropy\"]}\n",
    "\n",
    "cv_rf = GridSearchCV(rf, param_grid=parameters, scoring='f1', cv=3)"
   ]
  },
  {
   "cell_type": "markdown",
   "id": "d0284fed",
   "metadata": {
    "papermill": {
     "duration": 0.006459,
     "end_time": "2023-03-24T03:39:09.570900",
     "exception": false,
     "start_time": "2023-03-24T03:39:09.564441",
     "status": "completed"
    },
    "tags": []
   },
   "source": [
    "Printing the best parameter value and the best F1-score of the train set:"
   ]
  },
  {
   "cell_type": "code",
   "execution_count": 7,
   "id": "147897a3",
   "metadata": {
    "execution": {
     "iopub.execute_input": "2023-03-24T03:39:09.587199Z",
     "iopub.status.busy": "2023-03-24T03:39:09.586243Z",
     "iopub.status.idle": "2023-03-24T03:39:50.285783Z",
     "shell.execute_reply": "2023-03-24T03:39:50.284150Z"
    },
    "papermill": {
     "duration": 40.716601,
     "end_time": "2023-03-24T03:39:50.294261",
     "exception": false,
     "start_time": "2023-03-24T03:39:09.577660",
     "status": "completed"
    },
    "tags": []
   },
   "outputs": [
    {
     "name": "stdout",
     "output_type": "stream",
     "text": [
      "0.9265990536331034\n",
      "{'criterion': 'gini', 'max_depth': 7, 'min_samples_split': 4}\n"
     ]
    }
   ],
   "source": [
    "cv_rf.fit(Xtrain_scaled_pca, Ytrain)\n",
    "print(cv_rf.best_score_)\n",
    "print(cv_rf.best_params_)"
   ]
  },
  {
   "cell_type": "markdown",
   "id": "55d92012",
   "metadata": {
    "papermill": {
     "duration": 0.006664,
     "end_time": "2023-03-24T03:39:50.307839",
     "exception": false,
     "start_time": "2023-03-24T03:39:50.301175",
     "status": "completed"
    },
    "tags": []
   },
   "source": [
    "Printing the F1-score on the test set:"
   ]
  },
  {
   "cell_type": "code",
   "execution_count": 8,
   "id": "c72ce5fe",
   "metadata": {
    "execution": {
     "iopub.execute_input": "2023-03-24T03:39:50.324106Z",
     "iopub.status.busy": "2023-03-24T03:39:50.323682Z",
     "iopub.status.idle": "2023-03-24T03:39:50.436790Z",
     "shell.execute_reply": "2023-03-24T03:39:50.435165Z"
    },
    "papermill": {
     "duration": 0.12487,
     "end_time": "2023-03-24T03:39:50.439575",
     "exception": false,
     "start_time": "2023-03-24T03:39:50.314705",
     "status": "completed"
    },
    "tags": []
   },
   "outputs": [
    {
     "name": "stdout",
     "output_type": "stream",
     "text": [
      "F1-score of the test set: 0.21495327102803738\n"
     ]
    }
   ],
   "source": [
    "Ypred = cv_rf.predict(Xtest_scaled_pca)\n",
    "print(\"F1-score of the test set:\", f1_score(Ytest, Ypred))"
   ]
  },
  {
   "cell_type": "markdown",
   "id": "ea4a39d4",
   "metadata": {
    "papermill": {
     "duration": 0.006653,
     "end_time": "2023-03-24T03:39:50.453233",
     "exception": false,
     "start_time": "2023-03-24T03:39:50.446580",
     "status": "completed"
    },
    "tags": []
   },
   "source": [
    "Unfortunately, the F1-score of the test set is much lower than the one of the train set."
   ]
  },
  {
   "cell_type": "markdown",
   "id": "5da6f6cd",
   "metadata": {
    "papermill": {
     "duration": 0.006574,
     "end_time": "2023-03-24T03:39:50.466653",
     "exception": false,
     "start_time": "2023-03-24T03:39:50.460079",
     "status": "completed"
    },
    "tags": []
   },
   "source": [
    "# Gradient boosting"
   ]
  },
  {
   "cell_type": "code",
   "execution_count": 9,
   "id": "a69db74c",
   "metadata": {
    "execution": {
     "iopub.execute_input": "2023-03-24T03:39:50.483122Z",
     "iopub.status.busy": "2023-03-24T03:39:50.482243Z",
     "iopub.status.idle": "2023-03-24T03:39:50.489079Z",
     "shell.execute_reply": "2023-03-24T03:39:50.487769Z"
    },
    "papermill": {
     "duration": 0.018174,
     "end_time": "2023-03-24T03:39:50.491718",
     "exception": false,
     "start_time": "2023-03-24T03:39:50.473544",
     "status": "completed"
    },
    "tags": []
   },
   "outputs": [],
   "source": [
    "gb = GradientBoostingClassifier(random_state=47, n_estimators=100)\n",
    "parameters = {\"learning_rate\": [0.1,0.2,0.5],\n",
    "             \"min_samples_split\": [3,4,6],\n",
    "             \"max_depth\": [2,3,4]}\n",
    "\n",
    "cv_gb = GridSearchCV(gb, param_grid=parameters, scoring='f1', cv=3)"
   ]
  },
  {
   "cell_type": "markdown",
   "id": "ce61d5ef",
   "metadata": {
    "papermill": {
     "duration": 0.006621,
     "end_time": "2023-03-24T03:39:50.505442",
     "exception": false,
     "start_time": "2023-03-24T03:39:50.498821",
     "status": "completed"
    },
    "tags": []
   },
   "source": [
    "Printing the best parameter value and the best F1-score of the train set:"
   ]
  },
  {
   "cell_type": "code",
   "execution_count": 10,
   "id": "eb2a0a87",
   "metadata": {
    "execution": {
     "iopub.execute_input": "2023-03-24T03:39:50.521897Z",
     "iopub.status.busy": "2023-03-24T03:39:50.521017Z",
     "iopub.status.idle": "2023-03-24T03:49:20.108464Z",
     "shell.execute_reply": "2023-03-24T03:49:20.106799Z"
    },
    "papermill": {
     "duration": 569.609216,
     "end_time": "2023-03-24T03:49:20.121562",
     "exception": false,
     "start_time": "2023-03-24T03:39:50.512346",
     "status": "completed"
    },
    "tags": []
   },
   "outputs": [
    {
     "name": "stdout",
     "output_type": "stream",
     "text": [
      "0.9660990708537293\n",
      "{'learning_rate': 0.5, 'max_depth': 4, 'min_samples_split': 4}\n"
     ]
    }
   ],
   "source": [
    "cv_gb.fit(Xtrain_scaled_pca, Ytrain)\n",
    "print(cv_gb.best_score_)\n",
    "print(cv_gb.best_params_)"
   ]
  },
  {
   "cell_type": "markdown",
   "id": "37c109e6",
   "metadata": {
    "papermill": {
     "duration": 0.007039,
     "end_time": "2023-03-24T03:49:20.138635",
     "exception": false,
     "start_time": "2023-03-24T03:49:20.131596",
     "status": "completed"
    },
    "tags": []
   },
   "source": [
    "Printing the F1-score on the test set:"
   ]
  },
  {
   "cell_type": "code",
   "execution_count": 11,
   "id": "296e5338",
   "metadata": {
    "execution": {
     "iopub.execute_input": "2023-03-24T03:49:20.154740Z",
     "iopub.status.busy": "2023-03-24T03:49:20.154292Z",
     "iopub.status.idle": "2023-03-24T03:49:20.170849Z",
     "shell.execute_reply": "2023-03-24T03:49:20.169286Z"
    },
    "papermill": {
     "duration": 0.028423,
     "end_time": "2023-03-24T03:49:20.174140",
     "exception": false,
     "start_time": "2023-03-24T03:49:20.145717",
     "status": "completed"
    },
    "tags": []
   },
   "outputs": [
    {
     "name": "stdout",
     "output_type": "stream",
     "text": [
      "F1-score of the test set: 0.3256880733944954\n"
     ]
    }
   ],
   "source": [
    "Ypred = cv_gb.predict(Xtest_scaled_pca)\n",
    "print(\"F1-score of the test set:\", f1_score(Ytest, Ypred))"
   ]
  },
  {
   "cell_type": "markdown",
   "id": "3daeae67",
   "metadata": {
    "papermill": {
     "duration": 0.009867,
     "end_time": "2023-03-24T03:49:20.194204",
     "exception": false,
     "start_time": "2023-03-24T03:49:20.184337",
     "status": "completed"
    },
    "tags": []
   },
   "source": [
    "Again, the F1-score of the test set is considerably lower than the one of the train set."
   ]
  },
  {
   "cell_type": "markdown",
   "id": "05ebb69b",
   "metadata": {
    "papermill": {
     "duration": 0.006915,
     "end_time": "2023-03-24T03:49:20.210654",
     "exception": false,
     "start_time": "2023-03-24T03:49:20.203739",
     "status": "completed"
    },
    "tags": []
   },
   "source": [
    "Overall, it looks like logistic regression is the best algorithm."
   ]
  }
 ],
 "metadata": {
  "kernelspec": {
   "display_name": "Python 3",
   "language": "python",
   "name": "python3"
  },
  "language_info": {
   "codemirror_mode": {
    "name": "ipython",
    "version": 3
   },
   "file_extension": ".py",
   "mimetype": "text/x-python",
   "name": "python",
   "nbconvert_exporter": "python",
   "pygments_lexer": "ipython3",
   "version": "3.7.12"
  },
  "papermill": {
   "default_parameters": {},
   "duration": 661.099069,
   "end_time": "2023-03-24T03:49:22.847135",
   "environment_variables": {},
   "exception": null,
   "input_path": "__notebook__.ipynb",
   "output_path": "__notebook__.ipynb",
   "parameters": {},
   "start_time": "2023-03-24T03:38:21.748066",
   "version": "2.4.0"
  }
 },
 "nbformat": 4,
 "nbformat_minor": 5
}
